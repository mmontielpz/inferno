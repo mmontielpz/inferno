{
 "cells": [
  {
   "cell_type": "code",
   "execution_count": 12,
   "id": "138e1463-a342-4724-86e6-4cab48b196ef",
   "metadata": {},
   "outputs": [],
   "source": [
    "# 🔥 Inferno Benchmark - MobileNetV2\n",
    "# ✅ This notebook works successfully with MobileNetV2 architecture.\n",
    "# TODO: Add architecture tests to confirm support for:\n",
    "# - MobileNetV2 block types (depthwise separable convs)\n",
    "# - Other mobile architectures (e.g., EfficientNet-lite, ShuffleNet, etc.)\n",
    "# Later: validate support for ViTs, Transformers, etc.\n",
    "# This notebook benchmarks MobileNetV2 using the Inferno library."
   ]
  },
  {
   "cell_type": "code",
   "execution_count": 1,
   "id": "4d5e495a-74e3-4fe3-b6f7-fabfbd0a8f1e",
   "metadata": {},
   "outputs": [],
   "source": [
    "# 📦 Install dependencies (if running standalone)\n",
    "# !pip install torch torchvision inferno-bench"
   ]
  },
  {
   "cell_type": "code",
   "execution_count": 4,
   "id": "820aeb05-bb59-495a-aa63-97546b5b8ad1",
   "metadata": {},
   "outputs": [],
   "source": [
    "import sys\n",
    "sys.path.append(\"/home/miguel/personal/inferno\")  # Adjust path as needed"
   ]
  },
  {
   "cell_type": "code",
   "execution_count": 8,
   "id": "b0a17d30-4b96-4fc7-a5e6-6661005474e4",
   "metadata": {},
   "outputs": [],
   "source": [
    "# 🧠 Imports\n",
    "import torch\n",
    "from torchvision.models import mobilenet_v2\n",
    "from inferno import Performance"
   ]
  },
  {
   "cell_type": "code",
   "execution_count": 9,
   "id": "0dd63c23-473a-4653-8fe2-2d89c405978f",
   "metadata": {},
   "outputs": [],
   "source": [
    "# 🏠 Load model\n",
    "model = mobilenet_v2(pretrained=False)"
   ]
  },
  {
   "cell_type": "code",
   "execution_count": 10,
   "id": "1fb88f54-c9b5-4090-9937-a5b6e51b93b2",
   "metadata": {},
   "outputs": [
    {
     "name": "stdout",
     "output_type": "stream",
     "text": [
      "[INFO] Warmup...\n"
     ]
    },
    {
     "name": "stderr",
     "output_type": "stream",
     "text": [
      "[🔥] Warmup Runs: 100%|████████████████████████████████████| 50/50 [00:00<00:00, 57.09it/s]\n"
     ]
    },
    {
     "name": "stdout",
     "output_type": "stream",
     "text": [
      "[INFO] Measuring Inference...\n"
     ]
    },
    {
     "name": "stderr",
     "output_type": "stream",
     "text": [
      "[⏱️ ] Measuring Inference Time: 100%|████████████████████| 100/100 [00:01<00:00, 52.05it/s]"
     ]
    },
    {
     "name": "stdout",
     "output_type": "stream",
     "text": [
      "\n",
      "[🔥 Inferno Results]\n",
      "flops: 73.37\n",
      "macs: 73.37\n",
      "memory: 3445.0\n",
      "inference_time_ms: 18.96\n",
      "fps: 52.7\n"
     ]
    },
    {
     "name": "stderr",
     "output_type": "stream",
     "text": [
      "\n"
     ]
    }
   ],
   "source": [
    "# 🔍 Benchmark\n",
    "perf = Performance()\n",
    "results = perf.benchmark(model, input_shape=(32, 3, 224, 224))"
   ]
  },
  {
   "cell_type": "code",
   "execution_count": 11,
   "id": "d9c4e9e1-064c-40b8-93bf-251adc145300",
   "metadata": {},
   "outputs": [
    {
     "name": "stdout",
     "output_type": "stream",
     "text": [
      "flops: 73.37\n",
      "macs: 73.37\n",
      "memory: 3445.0\n",
      "inference_time_ms: 18.96\n",
      "fps: 52.7\n"
     ]
    }
   ],
   "source": [
    "# 📊 Results summary\n",
    "for k, v in results.items():\n",
    "    print(f\"{k}: {v}\")"
   ]
  }
 ],
 "metadata": {
  "kernelspec": {
   "display_name": "Python 3.11 (inferno-dev)",
   "language": "python",
   "name": "inferno-dev"
  },
  "language_info": {
   "codemirror_mode": {
    "name": "ipython",
    "version": 3
   },
   "file_extension": ".py",
   "mimetype": "text/x-python",
   "name": "python",
   "nbconvert_exporter": "python",
   "pygments_lexer": "ipython3",
   "version": "3.11.12"
  }
 },
 "nbformat": 4,
 "nbformat_minor": 5
}
