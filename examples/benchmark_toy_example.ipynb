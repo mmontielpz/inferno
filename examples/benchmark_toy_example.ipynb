{
 "cells": [
  {
   "cell_type": "code",
   "execution_count": 1,
   "id": "138e1463-a342-4724-86e6-4cab48b196ef",
   "metadata": {},
   "outputs": [],
   "source": [
    "# 🔥 Inferno Benchmark - Simple CNN Family (Auto-Loop)\n",
    "# ✅ Validates multiple torchvision CNN models using the Inferno library.\n",
    "# TODO:\n",
    "# - Expand coverage beyond MobileNetV2 to include ResNet, VGG, SqueezeNet, etc.\n",
    "# - Log failures clearly to improve compatibility and prevent loop crashes\n",
    "\n",
    "# 📦 Install dependencies (if running standalone)\n",
    "# !pip install torch torchvision"
   ]
  },
  {
   "cell_type": "code",
   "execution_count": 2,
   "id": "4d5e495a-74e3-4fe3-b6f7-fabfbd0a8f1e",
   "metadata": {},
   "outputs": [],
   "source": [
    "# 📦 Install dependencies (if running standalone)\n",
    "# !pip install torch torchvision inferno-bench"
   ]
  },
  {
   "cell_type": "code",
   "execution_count": 3,
   "id": "820aeb05-bb59-495a-aa63-97546b5b8ad1",
   "metadata": {},
   "outputs": [],
   "source": [
    "import sys\n",
    "sys.path.append(\"/home/miguel/personal/inferno\")  # Adjust path as needed"
   ]
  },
  {
   "cell_type": "code",
   "execution_count": 4,
   "id": "b0a17d30-4b96-4fc7-a5e6-6661005474e4",
   "metadata": {},
   "outputs": [],
   "source": [
    "# 🧠 Imports\n",
    "import torch\n",
    "import sys\n",
    "import traceback\n",
    "import logging\n",
    "from torchvision.models import (\n",
    "    mobilenet_v2, resnet18, resnet50, vgg16, alexnet, squeezenet1_0\n",
    ")\n",
    "from inferno import Performance"
   ]
  },
  {
   "cell_type": "code",
   "execution_count": 5,
   "id": "0dd63c23-473a-4653-8fe2-2d89c405978f",
   "metadata": {},
   "outputs": [],
   "source": [
    "# 📝 Setup logging\n",
    "logging.basicConfig(filename=\"inferno_benchmark_errors.log\", level=logging.ERROR)\n",
    "\n",
    "# 🔢 Define model test set\n",
    "MODELS = {\n",
    "    \"mobilenet_v2\": mobilenet_v2,\n",
    "    \"resnet18\": resnet18,\n",
    "    \"resnet50\": resnet50,\n",
    "    \"vgg16\": vgg16,\n",
    "    \"alexnet\": alexnet,\n",
    "    \"squeezenet1_0\": squeezenet1_0,\n",
    "}"
   ]
  },
  {
   "cell_type": "code",
   "execution_count": 6,
   "id": "1fb88f54-c9b5-4090-9937-a5b6e51b93b2",
   "metadata": {},
   "outputs": [
    {
     "name": "stdout",
     "output_type": "stream",
     "text": [
      "\n",
      "\n",
      "🔥 Benchmarking: mobilenet_v2\n",
      "[INFO] Warmup...\n"
     ]
    },
    {
     "name": "stderr",
     "output_type": "stream",
     "text": [
      "[🔥] Warmup Runs: 100%|████████████████████████████████████| 50/50 [00:00<00:00, 56.76it/s]\n"
     ]
    },
    {
     "name": "stdout",
     "output_type": "stream",
     "text": [
      "[INFO] Measuring Inference...\n"
     ]
    },
    {
     "name": "stderr",
     "output_type": "stream",
     "text": [
      "[⏱️] Measuring Inference Time: 100%|█████████████████████| 100/100 [00:01<00:00, 54.18it/s]\n"
     ]
    },
    {
     "name": "stdout",
     "output_type": "stream",
     "text": [
      "\n",
      "[🔥 Inferno Results]\n",
      "flops: 73.37\n",
      "macs: 73.37\n",
      "memory: 13780.0\n",
      "inference_time_ms: 18.3\n",
      "fps: 54.6\n",
      "flops: 73.37\n",
      "macs: 73.37\n",
      "memory: 13780.0\n",
      "inference_time_ms: 18.3\n",
      "fps: 54.6\n",
      "\n",
      "\n",
      "🔥 Benchmarking: resnet18\n",
      "[INFO] Warmup...\n"
     ]
    },
    {
     "name": "stderr",
     "output_type": "stream",
     "text": [
      "[🔥] Warmup Runs: 100%|████████████████████████████████████| 50/50 [00:00<00:00, 73.12it/s]\n"
     ]
    },
    {
     "name": "stdout",
     "output_type": "stream",
     "text": [
      "[INFO] Measuring Inference...\n"
     ]
    },
    {
     "name": "stderr",
     "output_type": "stream",
     "text": [
      "[⏱️] Measuring Inference Time: 100%|█████████████████████| 100/100 [00:01<00:00, 60.34it/s]\n"
     ]
    },
    {
     "name": "stdout",
     "output_type": "stream",
     "text": [
      "\n",
      "[🔥 Inferno Results]\n",
      "flops: 159.7\n",
      "macs: 159.7\n",
      "memory: 5647.0\n",
      "inference_time_ms: 16.41\n",
      "fps: 60.9\n",
      "flops: 159.7\n",
      "macs: 159.7\n",
      "memory: 5647.0\n",
      "inference_time_ms: 16.41\n",
      "fps: 60.9\n",
      "\n",
      "\n",
      "🔥 Benchmarking: resnet50\n",
      "[INFO] Warmup...\n"
     ]
    },
    {
     "name": "stderr",
     "output_type": "stream",
     "text": [
      "[🔥] Warmup Runs: 100%|████████████████████████████████████| 50/50 [00:02<00:00, 19.26it/s]\n"
     ]
    },
    {
     "name": "stdout",
     "output_type": "stream",
     "text": [
      "[INFO] Measuring Inference...\n"
     ]
    },
    {
     "name": "stderr",
     "output_type": "stream",
     "text": [
      "[⏱️] Measuring Inference Time: 100%|█████████████████████| 100/100 [00:05<00:00, 18.02it/s]\n"
     ]
    },
    {
     "name": "stdout",
     "output_type": "stream",
     "text": [
      "\n",
      "[🔥 Inferno Results]\n",
      "flops: 1947.0\n",
      "macs: 1947.0\n",
      "memory: 23510.0\n",
      "inference_time_ms: 55.13\n",
      "fps: 18.1\n",
      "flops: 1947.0\n",
      "macs: 1947.0\n",
      "memory: 23510.0\n",
      "inference_time_ms: 55.13\n",
      "fps: 18.1\n",
      "\n",
      "\n",
      "🔥 Benchmarking: vgg16\n",
      "[INFO] Warmup...\n"
     ]
    },
    {
     "name": "stderr",
     "output_type": "stream",
     "text": [
      "[🔥] Warmup Runs: 100%|████████████████████████████████████| 50/50 [00:03<00:00, 13.40it/s]\n"
     ]
    },
    {
     "name": "stdout",
     "output_type": "stream",
     "text": [
      "[INFO] Measuring Inference...\n"
     ]
    },
    {
     "name": "stderr",
     "output_type": "stream",
     "text": [
      "[⏱️] Measuring Inference Time: 100%|█████████████████████| 100/100 [00:09<00:00, 10.24it/s]\n"
     ]
    },
    {
     "name": "stdout",
     "output_type": "stream",
     "text": [
      "\n",
      "[🔥 Inferno Results]\n",
      "flops: 1441.0\n",
      "macs: 1441.0\n",
      "memory: 17770.0\n",
      "inference_time_ms: 97.28\n",
      "fps: 10.3\n",
      "flops: 1441.0\n",
      "macs: 1441.0\n",
      "memory: 17770.0\n",
      "inference_time_ms: 97.28\n",
      "fps: 10.3\n",
      "\n",
      "\n",
      "🔥 Benchmarking: alexnet\n",
      "[INFO] Warmup...\n"
     ]
    },
    {
     "name": "stderr",
     "output_type": "stream",
     "text": [
      "[🔥] Warmup Runs: 100%|███████████████████████████████████| 50/50 [00:00<00:00, 420.20it/s]\n"
     ]
    },
    {
     "name": "stdout",
     "output_type": "stream",
     "text": [
      "[INFO] Measuring Inference...\n"
     ]
    },
    {
     "name": "stderr",
     "output_type": "stream",
     "text": [
      "[⏱️] Measuring Inference Time: 100%|████████████████████| 100/100 [00:00<00:00, 190.42it/s]\n"
     ]
    },
    {
     "name": "stdout",
     "output_type": "stream",
     "text": [
      "\n",
      "[🔥 Inferno Results]\n",
      "flops: 38.07\n",
      "macs: 38.07\n",
      "memory: 1660.0\n",
      "inference_time_ms: 5.14\n",
      "fps: 194.6\n",
      "flops: 38.07\n",
      "macs: 38.07\n",
      "memory: 1660.0\n",
      "inference_time_ms: 5.14\n",
      "fps: 194.6\n",
      "\n",
      "\n",
      "🔥 Benchmarking: squeezenet1_0\n",
      "[INFO] Warmup...\n"
     ]
    },
    {
     "name": "stderr",
     "output_type": "stream",
     "text": [
      "[🔥] Warmup Runs: 100%|████████████████████████████████████| 50/50 [00:00<00:00, 66.69it/s]\n"
     ]
    },
    {
     "name": "stdout",
     "output_type": "stream",
     "text": [
      "[INFO] Measuring Inference...\n"
     ]
    },
    {
     "name": "stderr",
     "output_type": "stream",
     "text": [
      "[⏱️] Measuring Inference Time: 100%|█████████████████████| 100/100 [00:01<00:00, 55.43it/s]"
     ]
    },
    {
     "name": "stdout",
     "output_type": "stream",
     "text": [
      "\n",
      "[🔥 Inferno Results]\n",
      "flops: 74.69\n",
      "macs: 74.69\n",
      "memory: 5287.0\n",
      "inference_time_ms: 17.89\n",
      "fps: 55.9\n",
      "flops: 74.69\n",
      "macs: 74.69\n",
      "memory: 5287.0\n",
      "inference_time_ms: 17.89\n",
      "fps: 55.9\n"
     ]
    },
    {
     "name": "stderr",
     "output_type": "stream",
     "text": [
      "\n"
     ]
    }
   ],
   "source": [
    "# ⚖️ Test each model\n",
    "for name, fn in MODELS.items():\n",
    "    try:\n",
    "        print(f\"\\n\\n🔥 Benchmarking: {name}\")\n",
    "        model = fn(weights=None)\n",
    "        perf = Performance()\n",
    "        results = perf.benchmark(model, input_shape=(32, 3, 224, 224))\n",
    "\n",
    "        for k, v in results.items():\n",
    "            print(f\"{k}: {v}\")\n",
    "    except Exception as e:\n",
    "        msg = f\"❌ Failed for {name}: {e}\"\n",
    "        print(msg)\n",
    "        logging.error(msg, exc_info=True)"
   ]
  }
 ],
 "metadata": {
  "kernelspec": {
   "display_name": "Python 3.11 (inferno-dev)",
   "language": "python",
   "name": "inferno-dev"
  },
  "language_info": {
   "codemirror_mode": {
    "name": "ipython",
    "version": 3
   },
   "file_extension": ".py",
   "mimetype": "text/x-python",
   "name": "python",
   "nbconvert_exporter": "python",
   "pygments_lexer": "ipython3",
   "version": "3.11.12"
  }
 },
 "nbformat": 4,
 "nbformat_minor": 5
}
