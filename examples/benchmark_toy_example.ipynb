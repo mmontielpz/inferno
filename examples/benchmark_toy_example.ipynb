{
 "cells": [
  {
   "cell_type": "code",
   "execution_count": 1,
   "id": "138e1463-a342-4724-86e6-4cab48b196ef",
   "metadata": {},
   "outputs": [],
   "source": [
    "# 🔥 Inferno Benchmark - Simple CNN Family (Auto-Loop)\n",
    "# ✅ Validates multiple torchvision CNN models using the Inferno library.\n",
    "# TODO:\n",
    "# - Expand coverage beyond MobileNetV2 to include ResNet, VGG, SqueezeNet, etc.\n",
    "# - Log failures clearly to improve compatibility and prevent loop crashes"
   ]
  },
  {
   "cell_type": "code",
   "execution_count": 2,
   "id": "4d5e495a-74e3-4fe3-b6f7-fabfbd0a8f1e",
   "metadata": {},
   "outputs": [],
   "source": [
    "# 📦 Install dependencies (if running standalone)\n",
    "# !pip install torch torchvision"
   ]
  },
  {
   "cell_type": "code",
   "execution_count": 3,
   "id": "b0a17d30-4b96-4fc7-a5e6-6661005474e4",
   "metadata": {},
   "outputs": [],
   "source": [
    "# 🧠 Imports\n",
    "import torch\n",
    "import sys\n",
    "import traceback\n",
    "import logging\n",
    "import json\n",
    "from torchvision.models import (\n",
    "    mobilenet_v2, mobilenet_v3_small, mobilenet_v3_large,\n",
    "    efficientnet_b0, efficientnet_v2_s,\n",
    "    shufflenet_v2_x1_0, regnet_y_400mf,\n",
    "    resnet18, resnet50, vgg16, alexnet, squeezenet1_0\n",
    ")"
   ]
  },
  {
   "cell_type": "code",
   "execution_count": 5,
   "id": "a7c6af5e-9fec-4e75-9aac-4a948bd405f6",
   "metadata": {},
   "outputs": [],
   "source": [
    "# 🔧 Patch path to load local inferno package\n",
    "sys.path.append(\"/home/miguel/personal/inferno\")  # Adjust for your env\n",
    "from inferno import Performance"
   ]
  },
  {
   "cell_type": "code",
   "execution_count": 6,
   "id": "c1a6596b-3dd2-4bb9-9568-43633fd9065a",
   "metadata": {},
   "outputs": [],
   "source": [
    "# 📝 Setup logging\n",
    "logging.basicConfig(filename=\"inferno_benchmark_errors.log\", level=logging.ERROR)"
   ]
  },
  {
   "cell_type": "code",
   "execution_count": 7,
   "id": "6685f7e9-da84-421e-bde6-3fafc1530214",
   "metadata": {},
   "outputs": [],
   "source": [
    "# 📦 Prepare output storage\n",
    "results_log = []"
   ]
  },
  {
   "cell_type": "code",
   "execution_count": 8,
   "id": "0dd63c23-473a-4653-8fe2-2d89c405978f",
   "metadata": {},
   "outputs": [],
   "source": [
    "# 🔢 Define model test set\n",
    "MODELS = {\n",
    "    \"mobilenet_v2\": mobilenet_v2,\n",
    "    \"mobilenet_v3_small\": mobilenet_v3_small,\n",
    "    \"mobilenet_v3_large\": mobilenet_v3_large,\n",
    "    \"efficientnet_b0\": efficientnet_b0,\n",
    "    \"efficientnet_v2_s\": efficientnet_v2_s,\n",
    "    \"shufflenet_v2_x1_0\": shufflenet_v2_x1_0,\n",
    "    \"regnet_y_400mf\": regnet_y_400mf,\n",
    "    \"resnet18\": resnet18,\n",
    "    \"resnet50\": resnet50,\n",
    "    \"vgg16\": vgg16,\n",
    "    \"alexnet\": alexnet,\n",
    "    \"squeezenet1_0\": squeezenet1_0,\n",
    "}"
   ]
  },
  {
   "cell_type": "code",
   "execution_count": 9,
   "id": "3511be76-fa91-4978-b9e3-d98f3cd70979",
   "metadata": {
    "scrolled": true
   },
   "outputs": [
    {
     "name": "stdout",
     "output_type": "stream",
     "text": [
      "\n",
      "\n",
      "🔥 Benchmarking: mobilenet_v2\n",
      "[INFO] Warmup...\n"
     ]
    },
    {
     "name": "stderr",
     "output_type": "stream",
     "text": [
      "[🔥] Warmup Runs: 100%|████████████████████████████████████| 50/50 [00:00<00:00, 58.79it/s]\n"
     ]
    },
    {
     "name": "stdout",
     "output_type": "stream",
     "text": [
      "[INFO] Measuring Inference...\n"
     ]
    },
    {
     "name": "stderr",
     "output_type": "stream",
     "text": [
      "[⏱️] Measuring Inference Time: 100%|█████████████████████| 100/100 [00:01<00:00, 55.23it/s]\n"
     ]
    },
    {
     "name": "stdout",
     "output_type": "stream",
     "text": [
      "\n",
      "[🔥 Inferno Results]\n",
      "flops: 73.37\n",
      "macs: 73.37\n",
      "memory: 13780.0\n",
      "inference_time_ms: 17.96\n",
      "fps: 55.7\n",
      "flops: 73.37\n",
      "macs: 73.37\n",
      "memory: 13780.0\n",
      "inference_time_ms: 17.96\n",
      "fps: 55.7\n",
      "\n",
      "\n",
      "🔥 Benchmarking: mobilenet_v3_small\n",
      "[INFO] Warmup...\n"
     ]
    },
    {
     "name": "stderr",
     "output_type": "stream",
     "text": [
      "[🔥] Warmup Runs: 100%|███████████████████████████████████| 50/50 [00:00<00:00, 229.14it/s]\n"
     ]
    },
    {
     "name": "stdout",
     "output_type": "stream",
     "text": [
      "[INFO] Measuring Inference...\n"
     ]
    },
    {
     "name": "stderr",
     "output_type": "stream",
     "text": [
      "[⏱️] Measuring Inference Time: 100%|████████████████████| 100/100 [00:00<00:00, 199.32it/s]\n"
     ]
    },
    {
     "name": "stdout",
     "output_type": "stream",
     "text": [
      "\n",
      "[🔥 Inferno Results]\n",
      "flops: 6.548\n",
      "macs: 6.548\n",
      "memory: 3164.0\n",
      "inference_time_ms: 4.92\n",
      "fps: 203.3\n",
      "flops: 6.548\n",
      "macs: 6.548\n",
      "memory: 3164.0\n",
      "inference_time_ms: 4.92\n",
      "fps: 203.3\n",
      "\n",
      "\n",
      "🔥 Benchmarking: mobilenet_v3_large\n",
      "[INFO] Warmup...\n"
     ]
    },
    {
     "name": "stderr",
     "output_type": "stream",
     "text": [
      "[🔥] Warmup Runs: 100%|████████████████████████████████████| 50/50 [00:00<00:00, 74.83it/s]\n"
     ]
    },
    {
     "name": "stdout",
     "output_type": "stream",
     "text": [
      "[INFO] Measuring Inference...\n"
     ]
    },
    {
     "name": "stderr",
     "output_type": "stream",
     "text": [
      "[⏱️] Measuring Inference Time: 100%|█████████████████████| 100/100 [00:01<00:00, 70.72it/s]\n"
     ]
    },
    {
     "name": "stdout",
     "output_type": "stream",
     "text": [
      "\n",
      "[🔥 Inferno Results]\n",
      "flops: 47.5\n",
      "macs: 47.5\n",
      "memory: 9492.0\n",
      "inference_time_ms: 13.99\n",
      "fps: 71.5\n",
      "flops: 47.5\n",
      "macs: 47.5\n",
      "memory: 9492.0\n",
      "inference_time_ms: 13.99\n",
      "fps: 71.5\n",
      "\n",
      "\n",
      "🔥 Benchmarking: efficientnet_b0\n",
      "[INFO] Warmup...\n"
     ]
    },
    {
     "name": "stderr",
     "output_type": "stream",
     "text": [
      "[🔥] Warmup Runs: 100%|████████████████████████████████████| 50/50 [00:01<00:00, 46.39it/s]\n"
     ]
    },
    {
     "name": "stdout",
     "output_type": "stream",
     "text": [
      "[INFO] Measuring Inference...\n"
     ]
    },
    {
     "name": "stderr",
     "output_type": "stream",
     "text": [
      "[⏱️] Measuring Inference Time: 100%|█████████████████████| 100/100 [00:02<00:00, 43.15it/s]\n"
     ]
    },
    {
     "name": "stdout",
     "output_type": "stream",
     "text": [
      "\n",
      "[🔥 Inferno Results]\n",
      "flops: 123.8\n",
      "macs: 123.8\n",
      "memory: 15160.0\n",
      "inference_time_ms: 23.0\n",
      "fps: 43.5\n",
      "flops: 123.8\n",
      "macs: 123.8\n",
      "memory: 15160.0\n",
      "inference_time_ms: 23.0\n",
      "fps: 43.5\n",
      "\n",
      "\n",
      "🔥 Benchmarking: efficientnet_v2_s\n",
      "[INFO] Warmup...\n"
     ]
    },
    {
     "name": "stderr",
     "output_type": "stream",
     "text": [
      "[🔥] Warmup Runs: 100%|████████████████████████████████████| 50/50 [00:02<00:00, 17.40it/s]\n"
     ]
    },
    {
     "name": "stdout",
     "output_type": "stream",
     "text": [
      "[INFO] Measuring Inference...\n"
     ]
    },
    {
     "name": "stderr",
     "output_type": "stream",
     "text": [
      "[⏱️] Measuring Inference Time: 100%|█████████████████████| 100/100 [00:06<00:00, 15.23it/s]\n"
     ]
    },
    {
     "name": "stdout",
     "output_type": "stream",
     "text": [
      "\n",
      "[🔥 Inferno Results]\n",
      "flops: 897.8\n",
      "macs: 897.8\n",
      "memory: 27070.0\n",
      "inference_time_ms: 65.02\n",
      "fps: 15.4\n",
      "flops: 897.8\n",
      "macs: 897.8\n",
      "memory: 27070.0\n",
      "inference_time_ms: 65.02\n",
      "fps: 15.4\n",
      "\n",
      "\n",
      "🔥 Benchmarking: shufflenet_v2_x1_0\n",
      "[INFO] Warmup...\n"
     ]
    },
    {
     "name": "stderr",
     "output_type": "stream",
     "text": [
      "[🔥] Warmup Runs: 100%|███████████████████████████████████| 50/50 [00:00<00:00, 121.62it/s]\n"
     ]
    },
    {
     "name": "stdout",
     "output_type": "stream",
     "text": [
      "[INFO] Measuring Inference...\n"
     ]
    },
    {
     "name": "stderr",
     "output_type": "stream",
     "text": [
      "[⏱️] Measuring Inference Time: 100%|████████████████████| 100/100 [00:00<00:00, 107.97it/s]\n"
     ]
    },
    {
     "name": "stdout",
     "output_type": "stream",
     "text": [
      "\n",
      "[🔥 Inferno Results]\n",
      "flops: 25.51\n",
      "macs: 25.51\n",
      "memory: 4437.0\n",
      "inference_time_ms: 8.81\n",
      "fps: 113.5\n",
      "flops: 25.51\n",
      "macs: 25.51\n",
      "memory: 4437.0\n",
      "inference_time_ms: 8.81\n",
      "fps: 113.5\n",
      "\n",
      "\n",
      "🔥 Benchmarking: regnet_y_400mf\n",
      "[INFO] Warmup...\n"
     ]
    },
    {
     "name": "stderr",
     "output_type": "stream",
     "text": [
      "[🔥] Warmup Runs: 100%|████████████████████████████████████| 50/50 [00:00<00:00, 52.34it/s]\n"
     ]
    },
    {
     "name": "stdout",
     "output_type": "stream",
     "text": [
      "[INFO] Measuring Inference...\n"
     ]
    },
    {
     "name": "stderr",
     "output_type": "stream",
     "text": [
      "[⏱️] Measuring Inference Time: 100%|█████████████████████| 100/100 [00:01<00:00, 57.50it/s]\n"
     ]
    },
    {
     "name": "stdout",
     "output_type": "stream",
     "text": [
      "\n",
      "[🔥 Inferno Results]\n",
      "flops: 84.33\n",
      "macs: 84.33\n",
      "memory: 8703.0\n",
      "inference_time_ms: 17.26\n",
      "fps: 57.9\n",
      "flops: 84.33\n",
      "macs: 84.33\n",
      "memory: 8703.0\n",
      "inference_time_ms: 17.26\n",
      "fps: 57.9\n",
      "\n",
      "\n",
      "🔥 Benchmarking: resnet18\n",
      "[INFO] Warmup...\n"
     ]
    },
    {
     "name": "stderr",
     "output_type": "stream",
     "text": [
      "[🔥] Warmup Runs: 100%|████████████████████████████████████| 50/50 [00:00<00:00, 74.29it/s]\n"
     ]
    },
    {
     "name": "stdout",
     "output_type": "stream",
     "text": [
      "[INFO] Measuring Inference...\n"
     ]
    },
    {
     "name": "stderr",
     "output_type": "stream",
     "text": [
      "[⏱️] Measuring Inference Time: 100%|█████████████████████| 100/100 [00:01<00:00, 61.08it/s]\n"
     ]
    },
    {
     "name": "stdout",
     "output_type": "stream",
     "text": [
      "\n",
      "[🔥 Inferno Results]\n",
      "flops: 159.7\n",
      "macs: 159.7\n",
      "memory: 5647.0\n",
      "inference_time_ms: 16.23\n",
      "fps: 61.6\n",
      "flops: 159.7\n",
      "macs: 159.7\n",
      "memory: 5647.0\n",
      "inference_time_ms: 16.23\n",
      "fps: 61.6\n",
      "\n",
      "\n",
      "🔥 Benchmarking: resnet50\n",
      "[INFO] Warmup...\n"
     ]
    },
    {
     "name": "stderr",
     "output_type": "stream",
     "text": [
      "[🔥] Warmup Runs: 100%|████████████████████████████████████| 50/50 [00:02<00:00, 20.00it/s]\n"
     ]
    },
    {
     "name": "stdout",
     "output_type": "stream",
     "text": [
      "[INFO] Measuring Inference...\n"
     ]
    },
    {
     "name": "stderr",
     "output_type": "stream",
     "text": [
      "[⏱️] Measuring Inference Time: 100%|█████████████████████| 100/100 [00:05<00:00, 18.51it/s]\n"
     ]
    },
    {
     "name": "stdout",
     "output_type": "stream",
     "text": [
      "\n",
      "[🔥 Inferno Results]\n",
      "flops: 1947.0\n",
      "macs: 1947.0\n",
      "memory: 23510.0\n",
      "inference_time_ms: 53.69\n",
      "fps: 18.6\n",
      "flops: 1947.0\n",
      "macs: 1947.0\n",
      "memory: 23510.0\n",
      "inference_time_ms: 53.69\n",
      "fps: 18.6\n",
      "\n",
      "\n",
      "🔥 Benchmarking: vgg16\n",
      "[INFO] Warmup...\n"
     ]
    },
    {
     "name": "stderr",
     "output_type": "stream",
     "text": [
      "[🔥] Warmup Runs: 100%|████████████████████████████████████| 50/50 [00:03<00:00, 13.84it/s]\n"
     ]
    },
    {
     "name": "stdout",
     "output_type": "stream",
     "text": [
      "[INFO] Measuring Inference...\n"
     ]
    },
    {
     "name": "stderr",
     "output_type": "stream",
     "text": [
      "[⏱️] Measuring Inference Time: 100%|█████████████████████| 100/100 [00:09<00:00, 10.45it/s]\n"
     ]
    },
    {
     "name": "stdout",
     "output_type": "stream",
     "text": [
      "\n",
      "[🔥 Inferno Results]\n",
      "flops: 1441.0\n",
      "macs: 1441.0\n",
      "memory: 17770.0\n",
      "inference_time_ms: 95.29\n",
      "fps: 10.5\n",
      "flops: 1441.0\n",
      "macs: 1441.0\n",
      "memory: 17770.0\n",
      "inference_time_ms: 95.29\n",
      "fps: 10.5\n",
      "\n",
      "\n",
      "🔥 Benchmarking: alexnet\n",
      "[INFO] Warmup...\n"
     ]
    },
    {
     "name": "stderr",
     "output_type": "stream",
     "text": [
      "[🔥] Warmup Runs: 100%|███████████████████████████████████| 50/50 [00:00<00:00, 421.24it/s]\n"
     ]
    },
    {
     "name": "stdout",
     "output_type": "stream",
     "text": [
      "[INFO] Measuring Inference...\n"
     ]
    },
    {
     "name": "stderr",
     "output_type": "stream",
     "text": [
      "[⏱️] Measuring Inference Time: 100%|████████████████████| 100/100 [00:00<00:00, 195.36it/s]\n"
     ]
    },
    {
     "name": "stdout",
     "output_type": "stream",
     "text": [
      "\n",
      "[🔥 Inferno Results]\n",
      "flops: 38.07\n",
      "macs: 38.07\n",
      "memory: 1660.0\n",
      "inference_time_ms: 5.04\n",
      "fps: 198.4\n",
      "flops: 38.07\n",
      "macs: 38.07\n",
      "memory: 1660.0\n",
      "inference_time_ms: 5.04\n",
      "fps: 198.4\n",
      "\n",
      "\n",
      "🔥 Benchmarking: squeezenet1_0\n",
      "[INFO] Warmup...\n"
     ]
    },
    {
     "name": "stderr",
     "output_type": "stream",
     "text": [
      "[🔥] Warmup Runs: 100%|████████████████████████████████████| 50/50 [00:00<00:00, 67.45it/s]\n"
     ]
    },
    {
     "name": "stdout",
     "output_type": "stream",
     "text": [
      "[INFO] Measuring Inference...\n"
     ]
    },
    {
     "name": "stderr",
     "output_type": "stream",
     "text": [
      "[⏱️] Measuring Inference Time: 100%|█████████████████████| 100/100 [00:01<00:00, 56.05it/s]"
     ]
    },
    {
     "name": "stdout",
     "output_type": "stream",
     "text": [
      "\n",
      "[🔥 Inferno Results]\n",
      "flops: 74.69\n",
      "macs: 74.69\n",
      "memory: 5287.0\n",
      "inference_time_ms: 17.68\n",
      "fps: 56.6\n",
      "flops: 74.69\n",
      "macs: 74.69\n",
      "memory: 5287.0\n",
      "inference_time_ms: 17.68\n",
      "fps: 56.6\n"
     ]
    },
    {
     "name": "stderr",
     "output_type": "stream",
     "text": [
      "\n"
     ]
    }
   ],
   "source": [
    "# ⚖️ Test each model\n",
    "for name, fn in MODELS.items():\n",
    "    try:\n",
    "        print(f\"\\n\\n🔥 Benchmarking: {name}\")\n",
    "        model = fn(weights=None)\n",
    "        perf = Performance()\n",
    "        results = perf.benchmark(model, input_shape=(32, 3, 224, 224))\n",
    "\n",
    "        for k, v in results.items():\n",
    "            print(f\"{k}: {v}\")\n",
    "\n",
    "        results_log.append({\"model\": name, **results})\n",
    "\n",
    "    except Exception as e:\n",
    "        msg = f\"❌ Failed for {name}: {e}\"\n",
    "        print(msg)\n",
    "        logging.error(msg, exc_info=True)\n",
    "        results_log.append({\"model\": name, \"error\": str(e)})"
   ]
  },
  {
   "cell_type": "code",
   "execution_count": 10,
   "id": "1fb88f54-c9b5-4090-9937-a5b6e51b93b2",
   "metadata": {},
   "outputs": [],
   "source": [
    "# 💾 Save all results to JSON\n",
    "with open(\"benchmark_results.json\", \"w\") as f:\n",
    "    json.dump(results_log, f, indent=2)"
   ]
  }
 ],
 "metadata": {
  "kernelspec": {
   "display_name": "Python 3.11 (inferno-dev)",
   "language": "python",
   "name": "inferno-dev"
  },
  "language_info": {
   "codemirror_mode": {
    "name": "ipython",
    "version": 3
   },
   "file_extension": ".py",
   "mimetype": "text/x-python",
   "name": "python",
   "nbconvert_exporter": "python",
   "pygments_lexer": "ipython3",
   "version": "3.11.12"
  }
 },
 "nbformat": 4,
 "nbformat_minor": 5
}
